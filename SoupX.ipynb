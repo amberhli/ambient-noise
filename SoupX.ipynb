{
 "cells": [
  {
   "cell_type": "markdown",
   "id": "f48e862a",
   "metadata": {},
   "source": [
    "# SoupX"
   ]
  },
  {
   "cell_type": "code",
   "execution_count": 16,
   "id": "316f1fa2",
   "metadata": {},
   "outputs": [],
   "source": [
    "import numpy as np\n",
    "from numpy.random import multinomial, dirichlet"
   ]
  },
  {
   "cell_type": "markdown",
   "id": "afdbc799",
   "metadata": {},
   "source": [
    "Parameters: G = # of genes, C = # of cells, N_mean = average UMI/cell, rho = contamination fraction"
   ]
  },
  {
   "cell_type": "code",
   "execution_count": 17,
   "id": "3cfc96db",
   "metadata": {},
   "outputs": [],
   "source": [
    "G = 50\n",
    "C = 100\n",
    "N_mean = 2000\n",
    "rho = 0.1"
   ]
  },
  {
   "cell_type": "markdown",
   "id": "41ab9a63",
   "metadata": {},
   "source": [
    "Step 1: Generate ground truth endogenous profiles, each cell has its own gene expression profile (Dirichlet distribution)"
   ]
  },
  {
   "cell_type": "code",
   "execution_count": 18,
   "id": "ad702099",
   "metadata": {},
   "outputs": [],
   "source": [
    "pi_true = dirichlet(alpha=np.ones(G)*0.5, size=C)  # shape C x G\n",
    "N_c = np.random.poisson(N_mean, size=C)"
   ]
  },
  {
   "cell_type": "markdown",
   "id": "33e28c7c",
   "metadata": {},
   "source": [
    "Step 2: Define ambient background profile"
   ]
  },
  {
   "cell_type": "code",
   "execution_count": 19,
   "id": "bf0ad491",
   "metadata": {},
   "outputs": [],
   "source": [
    "b = dirichlet(alpha=np.linspace(2, 0.5, G))  # biased ambient profile (biased towards first few genes)"
   ]
  },
  {
   "cell_type": "markdown",
   "id": "3e49f345",
   "metadata": {},
   "source": [
    "Step 3: Generate observed counts according to SoupX model"
   ]
  },
  {
   "cell_type": "code",
   "execution_count": 20,
   "id": "052ab38e",
   "metadata": {},
   "outputs": [],
   "source": [
    "n_obs = []\n",
    "for c in range(C):\n",
    "    # mixture of endogenous and ambient\n",
    "    theta_c = (1 - rho) * pi_true[c] + rho * b\n",
    "    counts = multinomial(N_c[c], theta_c)\n",
    "    n_obs.append(counts)\n",
    "n_obs = np.array(n_obs)"
   ]
  },
  {
   "cell_type": "markdown",
   "id": "1655164c",
   "metadata": {},
   "source": [
    "Step 4: Ground truth endogenous counts (for comparison)"
   ]
  },
  {
   "cell_type": "code",
   "execution_count": 21,
   "id": "aa6ee549",
   "metadata": {},
   "outputs": [],
   "source": [
    "m_true = np.array([multinomial(N_c[c], pi_true[c]) for c in range(C)])"
   ]
  },
  {
   "cell_type": "markdown",
   "id": "d328b4d6",
   "metadata": {},
   "source": [
    "Step 5: Naïve subtraction correction (SoupX Eq. 5 style)"
   ]
  },
  {
   "cell_type": "code",
   "execution_count": 22,
   "id": "9c38bd64",
   "metadata": {},
   "outputs": [],
   "source": [
    "m_est_sub = np.maximum(0, n_obs - (N_c[:, None] * rho * b))"
   ]
  },
  {
   "cell_type": "markdown",
   "id": "b6644816",
   "metadata": {},
   "source": [
    "Step 6: Likelihood-based correction (approximation)"
   ]
  },
  {
   "cell_type": "code",
   "execution_count": 23,
   "id": "632e0b5d",
   "metadata": {},
   "outputs": [],
   "source": [
    "pi_est = np.maximum(0, (n_obs / N_c[:, None]) - rho * b)\n",
    "pi_est = pi_est / pi_est.sum(axis=1, keepdims=True)  # renormalize\n",
    "m_est_like = (1 - rho) * N_c[:, None] * pi_est"
   ]
  },
  {
   "cell_type": "markdown",
   "id": "6e7ede1a",
   "metadata": {},
   "source": [
    "Compare results"
   ]
  },
  {
   "cell_type": "code",
   "execution_count": 24,
   "id": "ba0768fb",
   "metadata": {},
   "outputs": [
    {
     "name": "stdout",
     "output_type": "stream",
     "text": [
      "MSE (naïve subtraction): 119.84370556966155\n",
      "MSE (likelihood approx): 122.35599340714147\n"
     ]
    }
   ],
   "source": [
    "def mse(A, B):\n",
    "    return ((A - B)**2).mean()\n",
    "\n",
    "print(\"MSE (naïve subtraction):\", mse(m_true, m_est_sub))\n",
    "print(\"MSE (likelihood approx):\", mse(m_true, m_est_like))"
   ]
  }
 ],
 "metadata": {
  "kernelspec": {
   "display_name": ".venv",
   "language": "python",
   "name": "python3"
  },
  "language_info": {
   "codemirror_mode": {
    "name": "ipython",
    "version": 3
   },
   "file_extension": ".py",
   "mimetype": "text/x-python",
   "name": "python",
   "nbconvert_exporter": "python",
   "pygments_lexer": "ipython3",
   "version": "3.13.8"
  }
 },
 "nbformat": 4,
 "nbformat_minor": 5
}
